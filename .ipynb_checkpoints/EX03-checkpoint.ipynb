{
 "cells": [
  {
   "cell_type": "code",
   "execution_count": 2,
   "id": "cad02eb1",
   "metadata": {},
   "outputs": [],
   "source": [
    "# i) Original image\n",
    "import cv2\n",
    "uni = cv2.imread('uni.jpg')\n",
    "cv2.imshow('Original image',uni)\n",
    "cv2.waitKey(0)\n",
    "cv2. destroyAllWindows()"
   ]
  },
  {
   "cell_type": "code",
   "execution_count": 3,
   "id": "c7a3f42d",
   "metadata": {},
   "outputs": [],
   "source": [
    "# ii) Convert BGR to HSV \n",
    "import cv2\n",
    "uni = cv2.imread('uni.jpg')\n",
    "hsv_image = cv2.cvtColor(uni, cv2.COLOR_BGR2HSV)\n",
    "cv2.imshow('BGR2HSV' ,hsv_image )\n",
    "cv2.waitKey(0)\n",
    "cv2. destroyAllWindows()"
   ]
  },
  {
   "cell_type": "code",
   "execution_count": 4,
   "id": "f6d2a737",
   "metadata": {},
   "outputs": [],
   "source": [
    "# iii) Convert BGR to GRAY\n",
    "import cv2\n",
    "uni = cv2.imread('uni.jpg')\n",
    "gray_image = cv2.cvtColor(uni, cv2.COLOR_BGR2GRAY)\n",
    "cv2.imshow( 'BGR2GRAY', gray_image)\n",
    "cv2.waitKey(0)\n",
    "cv2. destroyAllWindows()"
   ]
  },
  {
   "cell_type": "code",
   "execution_count": 5,
   "id": "51ddc014",
   "metadata": {},
   "outputs": [],
   "source": [
    "# iV) Convert RGB to HSV\n",
    "import cv2\n",
    "uni = cv2.imread('uni.jpg')\n",
    "hsv_image = cv2.cvtColor(uni, cv2.COLOR_RGB2HSV)\n",
    "cv2.imshow('RGB2HSV', hsv_image)\n",
    "cv2.waitKey(0)\n",
    "cv2. destroyAllWindows()"
   ]
  },
  {
   "cell_type": "code",
   "execution_count": 7,
   "id": "d101b618",
   "metadata": {},
   "outputs": [],
   "source": [
    "# V) Convert RGB to GRAY\n",
    "import cv2\n",
    "uni = cv2.imread('uni.jpg')\n",
    "gray_image1 = cv2.cvtColor (uni, cv2.COLOR_RGB2GRAY)\n",
    "cv2.imshow('RGB2GRAY', gray_image1)\n",
    "cv2.waitKey(0)\n",
    "cv2. destroyAllWindows()"
   ]
  },
  {
   "cell_type": "code",
   "execution_count": 8,
   "id": "1500dcbe",
   "metadata": {},
   "outputs": [],
   "source": [
    "# Vi)Convert HSV to RGB\n",
    "import cv2\n",
    "uni = cv2.imread('uni.jpg')\n",
    "RGB_image = cv2.cvtColor(uni,cv2.COLOR_HSV2RGB)\n",
    "cv2.imshow('HSV to RGB',RGB_image )\n",
    "cv2.waitKey(0)\n",
    "cv2.destroyAllWindows()"
   ]
  },
  {
   "cell_type": "code",
   "execution_count": 9,
   "id": "ee67519e",
   "metadata": {},
   "outputs": [],
   "source": [
    "# vii)Convert HSV to BGR\n",
    "import cv2\n",
    "uni = cv2.imread('uni.jpg')\n",
    "BGR_image = cv2.cvtColor(uni,cv2.COLOR_HSV2BGR)\n",
    "cv2.imshow('HSV to BGR',BGR_image)\n",
    "cv2.waitKey(0)\n",
    "cv2.destroyAllWindows()"
   ]
  },
  {
   "cell_type": "code",
   "execution_count": 10,
   "id": "616d2a8c",
   "metadata": {},
   "outputs": [],
   "source": [
    "# viii)Convert RGB to YCrCb\n",
    "import cv2\n",
    "uni = cv2.imread('uni.jpg')\n",
    "YCrCb_image = cv2.cvtColor(uni, cv2.COLOR_RGB2YCrCb)\n",
    "cv2.imshow('RGB2YCrCb',YCrCb_image)\n",
    "cv2.waitKey(0)\n",
    "cv2.destroyAllWindows()"
   ]
  },
  {
   "cell_type": "code",
   "execution_count": 11,
   "id": "1f4ca086",
   "metadata": {},
   "outputs": [],
   "source": [
    "# ix)Convert BGR to YCrCb\n",
    "import cv2\n",
    "uni = cv2.imread('uni.jpg')\n",
    "YCrCb_image = cv2.cvtColor(uni, cv2.COLOR_BGR2YCrCb)\n",
    "cv2.imshow('BGR2YCrCb',YCrCb_image)\n",
    "cv2.waitKey(0)\n",
    "cv2.destroyAllWindows()"
   ]
  },
  {
   "cell_type": "code",
   "execution_count": null,
   "id": "8fde33a8",
   "metadata": {},
   "outputs": [],
   "source": [
    "# x)Split RGB Image\n",
    "import cv2\n",
    "uni = cv2.imread('uni.jpg')\n",
    "blue=uni[:,:,0]\n",
    "green=uni[:,:,1]\n",
    "red=uni[:,:,2]\n",
    "cv2.imshow('B-Channel',blue)\n",
    "cv2.imshow('G-Channel',green)\n",
    "cv2.imshow('R-Channel',red)\n",
    "# xi) Merge RGB Image\n",
    "merged_BGR=cv2.merge((blue,green,red))\n",
    "cv2.imshow('Merged BGR Image',merged_BGR)\n",
    "cv2.waitKey(0)\n",
    "cv2.destoryAllWindows()"
   ]
  },
  {
   "cell_type": "code",
   "execution_count": null,
   "id": "de282a5a",
   "metadata": {},
   "outputs": [],
   "source": [
    "# xii) Split HSV Image\n",
    "import cv2\n",
    "uni = cv2.imread('uni.jpg')\n",
    "hsv=cv2.cvtColor(uni,cv2.COLOR_BGR2HSV)\n",
    "h,s,v=cv2.split(hsv)\n",
    "cv2.imshow(\"Hue-image\",h)\n",
    "cv2.imshow(\"Saturation-image\",s)\n",
    "cv2.imshow(\"gray-image\",v)\n",
    "# xiii) Merge HSV Image\n",
    "Merged_HSV=cv2.merge((h,s,v))\n",
    "cv2.imshow('Merged HSV Image',Merged_HSV)\n",
    "cv2.waitKey(0)\n",
    "cv2.destoryAllWindows()"
   ]
  },
  {
   "cell_type": "code",
   "execution_count": null,
   "id": "e7dfcafe",
   "metadata": {},
   "outputs": [],
   "source": []
  }
 ],
 "metadata": {
  "kernelspec": {
   "display_name": "Python 3",
   "language": "python",
   "name": "python3"
  },
  "language_info": {
   "codemirror_mode": {
    "name": "ipython",
    "version": 3
   },
   "file_extension": ".py",
   "mimetype": "text/x-python",
   "name": "python",
   "nbconvert_exporter": "python",
   "pygments_lexer": "ipython3",
   "version": "3.8.8"
  }
 },
 "nbformat": 4,
 "nbformat_minor": 5
}
